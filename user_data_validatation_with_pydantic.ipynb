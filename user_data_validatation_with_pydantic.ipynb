{
 "cells": [
  {
   "cell_type": "code",
   "execution_count": 1,
   "metadata": {},
   "outputs": [
    {
     "name": "stderr",
     "output_type": "stream",
     "text": [
      "'pwd'��(��) ���� �Ǵ� �ܺ� ����, ������ �� �ִ� ���α׷�, �Ǵ�\n",
      "��ġ ������ �ƴմϴ�.\n"
     ]
    }
   ],
   "source": [
    "!pwd"
   ]
  },
  {
   "cell_type": "code",
   "execution_count": 22,
   "metadata": {},
   "outputs": [],
   "source": [
    "from app import db\n",
    "from app.users.models import User\n",
    "from cassandra.cqlengine.management import sync_table\n",
    "\n",
    "db.get_session()\n",
    "sync_table(User)"
   ]
  },
  {
   "cell_type": "code",
   "execution_count": 23,
   "metadata": {},
   "outputs": [],
   "source": [
    "post_data=dict(email='abc@abc.com', password='abc123')"
   ]
  },
  {
   "cell_type": "code",
   "execution_count": 24,
   "metadata": {},
   "outputs": [
    {
     "data": {
      "text/plain": [
       "UserLoginSchema(email='abc@abc.com', password=SecretStr('**********'))"
      ]
     },
     "execution_count": 24,
     "metadata": {},
     "output_type": "execute_result"
    }
   ],
   "source": [
    "from pydantic import BaseModel, EmailStr, SecretStr, validator\n",
    "from app.users.models import User\n",
    "\n",
    "class UserLoginSchema(BaseModel):\n",
    "    email: EmailStr \n",
    "    password: SecretStr \n",
    "    \n",
    "u = UserLoginSchema(**post_data)\n",
    "u"
   ]
  },
  {
   "cell_type": "code",
   "execution_count": 32,
   "metadata": {},
   "outputs": [
    {
     "name": "stdout",
     "output_type": "stream",
     "text": [
      "**********\n",
      "{'email': 'abc@abc.com', 'password': SecretStr('**********')}\n"
     ]
    },
    {
     "data": {
      "text/plain": [
       "UserSginupSchema(email='abc@abc.com', password=SecretStr('**********'), password_confirm=SecretStr('**********'))"
      ]
     },
     "execution_count": 32,
     "metadata": {},
     "output_type": "execute_result"
    }
   ],
   "source": [
    "class UserSginupSchema(BaseModel):\n",
    "    email: EmailStr \n",
    "    password: SecretStr \n",
    "    password_confirm: SecretStr \n",
    "    \n",
    "    @validator('email')\n",
    "    def email_available(cls, v, values, **kwargs):\n",
    "        # print(v)\n",
    "        # print(values)\n",
    "        q = User.objects.filter(email=v)\n",
    "        if q.count() != 0 :\n",
    "            raise ValueError('Email is not available')\n",
    "        return v\n",
    "    \n",
    "    @validator('password_confirm')\n",
    "    def passwords_match(cls, v, values, **kwargs):\n",
    "        print(v)\n",
    "        print(values)\n",
    "        password = values.get('password')\n",
    "        password_confirm = v\n",
    "        if password != password_confirm:\n",
    "            raise ValueError(\"Passwords do not match\")    \n",
    "        return password_confirm\n",
    "    \n",
    "data = UserSginupSchema(**dict(email='abc@abc.com', password='abc123', password_confirm='abc123'))\n",
    "data"
   ]
  },
  {
   "cell_type": "code",
   "execution_count": 20,
   "metadata": {},
   "outputs": [
    {
     "data": {
      "text/plain": [
       "'abc123'"
      ]
     },
     "execution_count": 20,
     "metadata": {},
     "output_type": "execute_result"
    }
   ],
   "source": [
    "data.dict().get('password').get_secret_value()"
   ]
  }
 ],
 "metadata": {
  "interpreter": {
   "hash": "e4951368aabe68b1f485ca0fc6b9fb4a3af73f9f4fedb0ab935852965e87e294"
  },
  "kernelspec": {
   "display_name": "Python 3.9.1 64-bit ('venv': venv)",
   "language": "python",
   "name": "python3"
  },
  "language_info": {
   "codemirror_mode": {
    "name": "ipython",
    "version": 3
   },
   "file_extension": ".py",
   "mimetype": "text/x-python",
   "name": "python",
   "nbconvert_exporter": "python",
   "pygments_lexer": "ipython3",
   "version": "3.9.1"
  },
  "orig_nbformat": 4
 },
 "nbformat": 4,
 "nbformat_minor": 2
}
